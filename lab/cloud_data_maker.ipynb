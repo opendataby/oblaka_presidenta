{
 "cells": [
  {
   "cell_type": "code",
   "execution_count": 1,
   "metadata": {
    "collapsed": true
   },
   "outputs": [],
   "source": [
    "import json\n",
    "from collections import Counter\n",
    "import re"
   ]
  },
  {
   "cell_type": "code",
   "execution_count": 2,
   "metadata": {
    "collapsed": false
   },
   "outputs": [],
   "source": [
    "stop_words = [\"ни\", \"когда\", \"ну\", \"есть\", \"так\", \"которые\", \"уже\", \"за\", \"если\", \"там\", \"чтобы\", \"—\", \\\n",
    "              \"а\", \"бы\", \"быть\", \"в\", \"весь\", \"вот\", \"все\", \"всей\", \"да\", \"для\", \"до\", \"еще\", \"же\", \"и\", \"из\",\\\n",
    "              \"к\", \"как\", \"который\", \"мочь\", \"на\", \"не\", \"него\", \"нее\", \"нет\", \"них\", \"но\", \"о\", \"она\",\\\n",
    "              \"оно\", \"оный\", \"от\", \"ото\", \"по\", \"с\", \"сказать\", \"та\",\\\n",
    "              \"такой\", \"только\", \"тот\", \"у\", \"что\", \"это\", \"этот\", \"–\"]"
   ]
  },
  {
   "cell_type": "code",
   "execution_count": 3,
   "metadata": {
    "collapsed": false
   },
   "outputs": [
    {
     "name": "stdout",
     "output_type": "stream",
     "text": [
      "12_summit_2016-04-14.txt   poslanije_2016-04-21.txt\r\n",
      "beijing_2016-09-30.txt     press_conference_2016-11-17.txt\r\n",
      "cloud_data_maker.ipynb     trend_2016-11-25.txt\r\n",
      "conference_2015-12-12.txt  vns_5_2016-06-22.txt\r\n",
      "ind_day_2016-07-03.txt     zajavlenije_2014-09-06.txt\r\n",
      "parliament_2016-10-07.txt\r\n"
     ]
    }
   ],
   "source": [
    "ls"
   ]
  },
  {
   "cell_type": "code",
   "execution_count": 13,
   "metadata": {
    "collapsed": false
   },
   "outputs": [],
   "source": [
    "path = \"zajavlenije_2014-09-06.txt\""
   ]
  },
  {
   "cell_type": "code",
   "execution_count": 5,
   "metadata": {
    "collapsed": false
   },
   "outputs": [],
   "source": [
    "def remove_stop_words(word_list):\n",
    "    global stop_words\n",
    "    for word in word_list:\n",
    "        if word.strip(\",.-\").lower() in stop_words:\n",
    "            word_list.remove(word)\n",
    "    return word_list\n",
    "\n",
    "def prepare_cloud_data(text_file_path):\n",
    "    words = open(text_file_path).read().split(\" \")\n",
    "    refined_words = remove_stop_words(words)\n",
    "    counted_words = Counter(refined_words).most_common(100)\n",
    "    \n",
    "    cloud_data = [ {\"text\": a.strip(\",.-\"), \"size\": b} for a, b in counted_words ]\n",
    "    return cloud_data"
   ]
  },
  {
   "cell_type": "code",
   "execution_count": 14,
   "metadata": {
    "collapsed": false
   },
   "outputs": [],
   "source": [
    "with open(\"../data/%s.json\" % re.sub(\"\\.txt$\", \"\", path), \"w\") as dump_file:\n",
    "    json.dump(prepare_cloud_data(path), dump_file)"
   ]
  },
  {
   "cell_type": "code",
   "execution_count": null,
   "metadata": {
    "collapsed": true
   },
   "outputs": [],
   "source": []
  }
 ],
 "metadata": {
  "anaconda-cloud": {},
  "kernelspec": {
   "display_name": "Python [Root]",
   "language": "python",
   "name": "Python [Root]"
  },
  "language_info": {
   "codemirror_mode": {
    "name": "ipython",
    "version": 3
   },
   "file_extension": ".py",
   "mimetype": "text/x-python",
   "name": "python",
   "nbconvert_exporter": "python",
   "pygments_lexer": "ipython3",
   "version": "3.5.2"
  }
 },
 "nbformat": 4,
 "nbformat_minor": 0
}
