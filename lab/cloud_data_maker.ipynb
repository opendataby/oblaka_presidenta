{
 "cells": [
  {
   "cell_type": "code",
   "execution_count": 78,
   "metadata": {
    "collapsed": true
   },
   "outputs": [],
   "source": [
    "import json\n",
    "from collections import Counter\n",
    "import re"
   ]
  },
  {
   "cell_type": "code",
   "execution_count": 87,
   "metadata": {
    "collapsed": false
   },
   "outputs": [],
   "source": [
    "stop_words = [\"ни\", \"когда\", \"ну\", \"есть\", \"так\", \"которые\", \"уже\", \"за\", \"если\", \"там\", \"чтобы\", \"—\", \\\n",
    "              \"а\", \"бы\", \"быть\", \"в\", \"весь\", \"вот\", \"все\", \"всей\", \"да\", \"для\", \"до\", \"еще\", \"же\", \"и\", \"из\",\\\n",
    "              \"к\", \"как\", \"который\", \"мочь\", \"на\", \"не\", \"него\", \"нее\", \"нет\", \"них\", \"но\", \"о\", \"она\",\\\n",
    "              \"оно\", \"оный\", \"от\", \"ото\", \"по\", \"с\", \"сказать\", \"та\",\\\n",
    "              \"такой\", \"только\", \"тот\", \"у\", \"что\", \"это\", \"этот\", \"–\"]"
   ]
  },
  {
   "cell_type": "code",
   "execution_count": 84,
   "metadata": {
    "collapsed": false
   },
   "outputs": [],
   "source": [
    "path = \"trend_2016-11-25.txt\""
   ]
  },
  {
   "cell_type": "code",
   "execution_count": 68,
   "metadata": {
    "collapsed": false
   },
   "outputs": [],
   "source": [
    "def remove_stop_words(word_list):\n",
    "    global stop_words\n",
    "    for word in word_list:\n",
    "        if word.strip(\",.-\").lower() in stop_words:\n",
    "            word_list.remove(word)\n",
    "    return word_list\n",
    "\n",
    "def prepare_cloud_data(text_file_path):\n",
    "    words = open(text_file_path).read().split(\" \")\n",
    "    refined_words = remove_stop_words(words)\n",
    "    counted_words = Counter(refined_words).most_common(100)\n",
    "    \n",
    "    cloud_data = [ {\"text\": a.strip(\",.-\"), \"size\": b} for a, b in counted_words ]\n",
    "    return cloud_data"
   ]
  },
  {
   "cell_type": "code",
   "execution_count": 85,
   "metadata": {
    "collapsed": false
   },
   "outputs": [],
   "source": [
    "with open(\"../data/%s.json\" % re.sub(\"\\.txt$\", \"\", path), \"w\") as dump_file:\n",
    "    json.dump(prepare_cloud_data(path), dump_file)"
   ]
  }
 ],
 "metadata": {
  "anaconda-cloud": {},
  "kernelspec": {
   "display_name": "Python [Root]",
   "language": "python",
   "name": "Python [Root]"
  },
  "language_info": {
   "codemirror_mode": {
    "name": "ipython",
    "version": 3
   },
   "file_extension": ".py",
   "mimetype": "text/x-python",
   "name": "python",
   "nbconvert_exporter": "python",
   "pygments_lexer": "ipython3",
   "version": "3.5.2"
  }
 },
 "nbformat": 4,
 "nbformat_minor": 0
}
